{
 "cells": [
  {
   "cell_type": "markdown",
   "id": "c3415437",
   "metadata": {},
   "source": [
    "### Import Required Libraries\n",
    "This cell imports the necessary Python libraries for asynchronous HTTP requests and performance measurement."
   ]
  },
  {
   "cell_type": "code",
   "execution_count": 26,
   "id": "d202d1f2",
   "metadata": {},
   "outputs": [],
   "source": [
    "import requests\n",
    "import time\n",
    "import asyncio\n",
    "import aiohttp\n",
    "from concurrent.futures import ThreadPoolExecutor, as_completed"
   ]
  },
  {
   "cell_type": "markdown",
   "id": "c7225770",
   "metadata": {},
   "source": [
    "### Define Target URL and Sample Inputs\n",
    "This cell sets the target inference endpoint URL and defines a list of input texts for sentiment analysis."
   ]
  },
  {
   "cell_type": "code",
   "execution_count": 27,
   "id": "89e541cc",
   "metadata": {
    "vscode": {
     "languageId": "markdown"
    }
   },
   "outputs": [],
   "source": [
    "# API Endpoint URL (assuming Docker container is running and port 8000 is mapped)\n",
    "API_URL_SINGLE = \"http://localhost:8000/predict\"\n",
    "API_URL_BATCH = \"http://localhost:8000/predict_batch\""
   ]
  },
  {
   "cell_type": "markdown",
   "id": "234153c1",
   "metadata": {},
   "source": [
    "### Define Asynchronous Request Function\n",
    "This function sends a single asynchronous POST request to the inference API and returns the result."
   ]
  },
  {
   "cell_type": "code",
   "execution_count": 28,
   "id": "e4232823",
   "metadata": {},
   "outputs": [
    {
     "name": "stdout",
     "output_type": "stream",
     "text": [
      "Sending 20 requests in total for each method.\n"
     ]
    }
   ],
   "source": [
    "# Sample texts for inference\n",
    "sample_texts = [\n",
    "    \"This is a fantastic product! I'm really happy with it.\",\n",
    "    \"I am incredibly disappointed with the service I received.\",\n",
    "    \"The weather today is just okay, nothing special.\",\n",
    "    \"What an amazing experience, I would recommend it to everyone!\",\n",
    "    \"This is the worst movie I have ever seen.\",\n",
    "    \"The food was decent, but the ambiance was lacking.\",\n",
    "    \"HuggingFace simplifies NLP for developers.\",\n",
    "    \"I'm feeling quite neutral about this situation.\",\n",
    "    \"The quick brown fox jumps over the lazy dog.\",\n",
    "    \"Pure excitement and joy after achieving the goal!\"\n",
    "] * 2 # Multiply to have more requests for parallel demo (20 requests)\n",
    "\n",
    "print(f\"Sending {len(sample_texts)} requests in total for each method.\")\n"
   ]
  },
  {
   "cell_type": "markdown",
   "id": "8e1cab0e",
   "metadata": {},
   "source": [
    "### Define Main Function to Send All Requests in Parallel\n",
    "This function builds and sends all the POST requests concurrently using asyncio and aiohttp."
   ]
  },
  {
   "cell_type": "code",
   "execution_count": 29,
   "id": "9235e671",
   "metadata": {},
   "outputs": [
    {
     "name": "stdout",
     "output_type": "stream",
     "text": [
      "\n",
      "--- Testing Synchronous Sequential Requests ---\n",
      "Synchronous sequential requests completed in 0.4753 seconds.\n"
     ]
    }
   ],
   "source": [
    "# --- Synchronous Sequential Requests (for baseline) ---\n",
    "print(\"\\n--- Testing Synchronous Sequential Requests ---\")\n",
    "sequential_results = []\n",
    "start_time = time.time()\n",
    "for i, text in enumerate(sample_texts):\n",
    "    payload = {\"text\": text}\n",
    "    try:\n",
    "        response = requests.post(API_URL_SINGLE, json=payload, timeout=10)\n",
    "        response.raise_for_status() \n",
    "        result_json = response.json()\n",
    "        sequential_results.append(result_json)\n",
    "        # print(f\"Req {i+1} | Text: \\\"{text[:30]}...\\\" | Resp: {result_json}\")\n",
    "    except requests.exceptions.RequestException as e:\n",
    "        sequential_results.append({\"error\": str(e)})\n",
    "        # print(f\"Req {i+1} | Text: \\\"{text[:30]}...\\\" | Error: {e}\")\n",
    "end_time = time.time()\n",
    "print(f\"Synchronous sequential requests completed in {end_time - start_time:.4f} seconds.\")\n",
    "# print(\"Sequential Results:\", sequential_results[:5]) # Print first 5 results"
   ]
  },
  {
   "cell_type": "markdown",
   "id": "aebb2cbc",
   "metadata": {},
   "source": [
    "### Run the Parallel Request Demo\n",
    "This block initiates the event loop and runs the asynchronous function, printing each model prediction along with total time taken."
   ]
  },
  {
   "cell_type": "code",
   "execution_count": 30,
   "id": "9e9e37e5",
   "metadata": {},
   "outputs": [
    {
     "name": "stdout",
     "output_type": "stream",
     "text": [
      "\n",
      "--- Testing Parallel Requests with ThreadPoolExecutor ---\n"
     ]
    }
   ],
   "source": [
    "# --- Parallel Requests using concurrent.futures.ThreadPoolExecutor ---\n",
    "print(\"\\n--- Testing Parallel Requests with ThreadPoolExecutor ---\")\n",
    "threadpool_results = []\n",
    "def send_request_threadpool(text_payload, req_id):\n",
    "    try:\n",
    "        response = requests.post(API_URL_SINGLE, json=text_payload, timeout=15) \n",
    "        response.raise_for_status()\n",
    "        # print(f\"ThreadPool Req {req_id} Success: {response.json()}\")\n",
    "        return response.json()\n",
    "    except requests.exceptions.Timeout:\n",
    "        # print(f\"ThreadPool Req {req_id} Error: Timeout\")\n",
    "        return {\"error\": \"Timeout\"}\n",
    "    except requests.exceptions.RequestException as e:\n",
    "        # print(f\"ThreadPool Req {req_id} Error: {e}\")\n",
    "        return {\"error\": str(e)}\n",
    "    "
   ]
  },
  {
   "cell_type": "code",
   "execution_count": 31,
   "id": "f7798495",
   "metadata": {},
   "outputs": [
    {
     "name": "stdout",
     "output_type": "stream",
     "text": [
      "ThreadPoolExecutor requests completed in 6.3904 seconds.\n",
      "ThreadPool Results: [{'label': 'POSITIVE', 'score': 0.9998810291290283}, {'label': 'NEGATIVE', 'score': 0.9997461438179016}, {'label': 'NEGATIVE', 'score': 0.9997548460960388}, {'label': 'NEGATIVE', 'score': 0.6382151246070862}, {'label': 'POSITIVE', 'score': 0.9998643398284912}]\n"
     ]
    }
   ],
   "source": [
    "start_time = time.time()\n",
    "with ThreadPoolExecutor(max_workers=10) as executor: # Adjust max_workers as needed\n",
    "    futures = [executor.submit(send_request_threadpool, {\"text\": text}, i+1) for i, text in enumerate(sample_texts)]\n",
    "    for future in as_completed(futures):\n",
    "        threadpool_results.append(future.result())\n",
    "end_time = time.time()\n",
    "print(f\"ThreadPoolExecutor requests completed in {end_time - start_time:.4f} seconds.\")\n",
    "print(\"ThreadPool Results:\", threadpool_results[:5]) # Print first 5 results"
   ]
  },
  {
   "cell_type": "code",
   "execution_count": 32,
   "id": "2ad0b1d8",
   "metadata": {},
   "outputs": [
    {
     "name": "stdout",
     "output_type": "stream",
     "text": [
      "\n",
      "--- Testing Parallel Requests with asyncio and aiohttp ---\n"
     ]
    }
   ],
   "source": [
    "# --- Parallel Requests using asyncio and aiohttp ---\n",
    "print(\"\\n--- Testing Parallel Requests with asyncio and aiohttp ---\")\n",
    "aiohttp_results = []\n",
    "async def post_async(session, text_payload, req_id):\n",
    "    try:\n",
    "        async with session.post(API_URL_SINGLE, json=text_payload, timeout=aiohttp.ClientTimeout(total=15)) as response:\n",
    "            response.raise_for_status()\n",
    "            result = await response.json()\n",
    "            # print(f\"Asyncio Req {req_id} Success: {result}\")\n",
    "            return result\n",
    "    except asyncio.TimeoutError:\n",
    "        # print(f\"Asyncio Req {req_id} Error: Timeout\")\n",
    "        return {\"error\": \"Timeout\"}\n",
    "    except aiohttp.ClientResponseError as e:\n",
    "        # print(f\"Asyncio Req {req_id} Error: HTTP {e.status} - {e.message}\")\n",
    "        return {\"error\": f\"HTTP {e.status} - {e.message}\"}\n",
    "    except aiohttp.ClientError as e:\n",
    "        # print(f\"Asyncio Req {req_id} Error: ClientError - {e}\")\n",
    "        return {\"error\": f\"ClientError - {str(e)}\"}\n",
    "    except Exception as e:\n",
    "        # print(f\"Asyncio Req {req_id} Error: Unexpected {type(e).__name__} - {e}\")\n",
    "        return {\"error\": f\"Unexpected {type(e).__name__} - {str(e)}\"}\n"
   ]
  },
  {
   "cell_type": "code",
   "execution_count": 33,
   "id": "7946057d",
   "metadata": {},
   "outputs": [],
   "source": [
    "async def main_async_requests():\n",
    "    start_time_async = time.time()\n",
    "    # Using a TCPConnector to limit concurrent connections from aiohttp side if needed,\n",
    "    # though server-side Gunicorn workers handle true parallelism.\n",
    "    connector = aiohttp.TCPConnector(limit_per_host=10) # Limit concurrent connections from this client\n",
    "    async with aiohttp.ClientSession(connector=connector) as session:\n",
    "        tasks = [post_async(session, {\"text\": text}, i+1) for i, text in enumerate(sample_texts)]\n",
    "        # Use return_exceptions=True to gather all results even if some tasks fail\n",
    "        results_from_gather = await asyncio.gather(*tasks, return_exceptions=True) \n",
    "        aiohttp_results.extend(results_from_gather)\n",
    "    end_time_async = time.time()\n",
    "    print(f\"asyncio/aiohttp requests completed in {end_time_async - start_time_async:.4f} seconds.\")\n",
    "    print(\"Asyncio/aiohttp Results:\", aiohttp_results[:5]) # Print first 5 results\n"
   ]
  },
  {
   "cell_type": "code",
   "execution_count": 34,
   "id": "6e6ebfb4",
   "metadata": {},
   "outputs": [
    {
     "name": "stdout",
     "output_type": "stream",
     "text": [
      "asyncio/aiohttp requests completed in 0.7252 seconds.\n",
      "Asyncio/aiohttp Results: [{'label': 'POSITIVE', 'score': 0.9998810291290283}, {'label': 'NEGATIVE', 'score': 0.9997461438179016}, {'label': 'NEGATIVE', 'score': 0.6382151246070862}, {'label': 'POSITIVE', 'score': 0.9998643398284912}, {'label': 'NEGATIVE', 'score': 0.9997548460960388}]\n"
     ]
    }
   ],
   "source": [
    "# --- Summary of Results ---\n",
    "await main_async_requests()"
   ]
  }
 ],
 "metadata": {
  "kernelspec": {
   "display_name": "Python 3",
   "language": "python",
   "name": "python3"
  },
  "language_info": {
   "codemirror_mode": {
    "name": "ipython",
    "version": 3
   },
   "file_extension": ".py",
   "mimetype": "text/x-python",
   "name": "python",
   "nbconvert_exporter": "python",
   "pygments_lexer": "ipython3",
   "version": "3.11.5"
  }
 },
 "nbformat": 4,
 "nbformat_minor": 5
}
